{
 "cells": [
  {
   "cell_type": "markdown",
   "metadata": {},
   "source": [
    "# Load and Explore Time Series Data in Python\n",
    "\n",
    "## Daily Female Births Dataset\n",
    "In this post, we will use the Daily Female Births Dataset as an example. This univariate time series dataset describes the number of daily female births in California in 1959.\n",
    "\n",
    "The units are a count and there are 365 observations. The source of the dataset is credited to Newton (1988)."
   ]
  },
  {
   "cell_type": "markdown",
   "metadata": {},
   "source": [
    "### Load Time Series Data\n",
    "Pandas represented time series datasets as a Series. A Series is a one-dimensional array with a time label for each row.\n",
    "\n",
    "We can load the Daily Female Births dataset directly using the Series class as follows:"
   ]
  },
  {
   "cell_type": "code",
   "execution_count": 2,
   "metadata": {},
   "outputs": [
    {
     "name": "stdout",
     "output_type": "stream",
     "text": [
      "Date\n",
      "1959-01-01    35\n",
      "1959-01-02    32\n",
      "1959-01-03    30\n",
      "1959-01-04    31\n",
      "1959-01-05    44\n",
      "Name: Births, dtype: int64\n"
     ]
    }
   ],
   "source": [
    "# Load birth data using Series\n",
    "from pandas import Series\n",
    "series = Series.from_csv('dataset/daily-total-female-births.csv',\n",
    "                         header=0)\n",
    "print(series.head()) # print the first 5 rows by default\n"
   ]
  },
  {
   "cell_type": "markdown",
   "metadata": {},
   "source": [
    "- The series has a name, which is the column name of the data column.\n",
    "- You can see that each row has an associated date. This is in fact not a column, but instead a time index for value. As an index, there can be multiple values for one time, and values may be spaced evenly or unevenly across times.\n",
    "\n",
    "The main function for loading CSV data in Pandas is the read_csv() function. We can use this to load the time series as a Series object, instead of a DataFrame, as follows:"
   ]
  },
  {
   "cell_type": "code",
   "execution_count": 5,
   "metadata": {},
   "outputs": [
    {
     "name": "stdout",
     "output_type": "stream",
     "text": [
      "<class 'pandas.core.series.Series'>\n",
      "Date\n",
      "1959-01-01    35\n",
      "1959-01-02    32\n",
      "1959-01-03    30\n",
      "1959-01-04    31\n",
      "1959-01-05    44\n",
      "Name: Births, dtype: int64\n"
     ]
    }
   ],
   "source": [
    "# Load birth data using read_csv\n",
    "from pandas import read_csv\n",
    "\n",
    "series = read_csv('dataset/daily-total-female-births.csv',\n",
    "                 header=0, parse_dates=[0], index_col=0, squeeze=True)\n",
    "print(type(series))\n",
    "print(series.head())"
   ]
  },
  {
   "cell_type": "markdown",
   "metadata": {},
   "source": [
    "We provide it a number of hints to ensure the data is loaded as a Series.\n",
    "\n",
    "- header=0: We must specify the header information at row 0.\n",
    "- parse_dates=[0]: We give the function a hint that data in the first column contains dates that need to be parsed. This argument takes a list, so we provide it a list of one element, which is the index of the first column.\n",
    "- index_col=0: We hint that the first column contains the index information for the time series.\n",
    "- squeeze=True: We hint that we only have one data column and that we are interested in a Series and not a DataFrame.\n",
    "\n",
    "One more argument you may need to use for your own data is date_parser to specify the function to parse date-time values. In this example, the date format has been inferred, and this works in most cases. In those few cases where it does not, specify your own **date parsing** function and use the date_parser argument.\n",
    "\n",
    "Further Reading:\n",
    "- More on the Series.from_csv() function.(http://pandas.pydata.org/pandas-docs/stable/generated/pandas.Series.from_csv.html#pandas.Series.from_csv)\n",
    "- More on the pandas.read_csv() function.(http://pandas.pydata.org/pandas-docs/stable/generated/pandas.read_csv.html#pandas.read_csv)"
   ]
  },
  {
   "cell_type": "markdown",
   "metadata": {},
   "source": [
    "In those situations, you can easily convert your loaded Series to a DataFrame as follows:"
   ]
  },
  {
   "cell_type": "code",
   "execution_count": 8,
   "metadata": {},
   "outputs": [
    {
     "name": "stdout",
     "output_type": "stream",
     "text": [
      "            Births\n",
      "Date              \n",
      "1959-01-01      35\n",
      "1959-01-02      32\n",
      "1959-01-03      30\n",
      "1959-01-04      31\n",
      "1959-01-05      44\n"
     ]
    }
   ],
   "source": [
    "from pandas import DataFrame\n",
    "dataframe = DataFrame(series)\n",
    "print(dataframe.head())"
   ]
  },
  {
   "cell_type": "markdown",
   "metadata": {},
   "source": [
    "### Exploring Time Series Data\n",
    "#### Peek at the Data\n",
    "It is a good idea to take a peek at your loaded data to confirm that the types, dates, and data loaded as you intended.\n",
    "\n",
    "- You can use the **head()** function to peek at the first 5 records or specify the first n number of records to review.\n",
    "- You can also use the **tail()** function to get the last n records of the dataset."
   ]
  },
  {
   "cell_type": "code",
   "execution_count": 9,
   "metadata": {},
   "outputs": [
    {
     "name": "stdout",
     "output_type": "stream",
     "text": [
      "Date\n",
      "1959-01-01    35\n",
      "1959-01-02    32\n",
      "1959-01-03    30\n",
      "1959-01-04    31\n",
      "1959-01-05    44\n",
      "1959-01-06    29\n",
      "1959-01-07    45\n",
      "1959-01-08    43\n",
      "Name: Births, dtype: int64\n",
      "Date\n",
      "1959-12-27    37\n",
      "1959-12-28    52\n",
      "1959-12-29    48\n",
      "1959-12-30    55\n",
      "1959-12-31    50\n",
      "Name: Births, dtype: int64\n"
     ]
    }
   ],
   "source": [
    "print(series.head(8))\n",
    "print(series.tail())"
   ]
  },
  {
   "cell_type": "code",
   "execution_count": 10,
   "metadata": {},
   "outputs": [
    {
     "name": "stdout",
     "output_type": "stream",
     "text": [
      "365\n"
     ]
    }
   ],
   "source": [
    "# Number of Observations\n",
    "print(series.size)"
   ]
  },
  {
   "cell_type": "code",
   "execution_count": 14,
   "metadata": {},
   "outputs": [
    {
     "name": "stdout",
     "output_type": "stream",
     "text": [
      "Date\n",
      "1959-01-01    35\n",
      "1959-01-02    32\n",
      "1959-01-03    30\n",
      "1959-01-04    31\n",
      "1959-01-05    44\n",
      "1959-01-06    29\n",
      "1959-01-07    45\n",
      "1959-01-08    43\n",
      "1959-01-09    38\n",
      "1959-01-10    27\n",
      "1959-01-11    38\n",
      "1959-01-12    33\n",
      "1959-01-13    55\n",
      "1959-01-14    47\n",
      "1959-01-15    45\n",
      "1959-01-16    37\n",
      "1959-01-17    50\n",
      "1959-01-18    43\n",
      "1959-01-19    41\n",
      "1959-01-20    52\n",
      "1959-01-21    34\n",
      "1959-01-22    53\n",
      "1959-01-23    39\n",
      "1959-01-24    32\n",
      "1959-01-25    37\n",
      "1959-01-26    43\n",
      "1959-01-27    39\n",
      "1959-01-28    35\n",
      "1959-01-29    44\n",
      "1959-01-30    38\n",
      "1959-01-31    24\n",
      "Name: Births, dtype: int64\n"
     ]
    }
   ],
   "source": [
    "# You can slice, dice, and query your series using the time index.\n",
    "\n",
    "# acess all observations in January (1959-01-0 does not work)\n",
    "print(series['1959-01'])"
   ]
  },
  {
   "cell_type": "code",
   "execution_count": 15,
   "metadata": {},
   "outputs": [
    {
     "name": "stdout",
     "output_type": "stream",
     "text": [
      "count    365.000000\n",
      "mean      41.980822\n",
      "std        7.348257\n",
      "min       23.000000\n",
      "25%       37.000000\n",
      "50%       42.000000\n",
      "75%       46.000000\n",
      "max       73.000000\n",
      "Name: Births, dtype: float64\n"
     ]
    }
   ],
   "source": [
    "\"\"\"Descriptive Statistics\n",
    "The describe() function creates a 7 number summary of the loaded \n",
    "time series including mean, standard deviation, median, minimum, \n",
    "and maximum of the observations.\n",
    "\"\"\"\n",
    "\n",
    "print(series.describe())"
   ]
  },
  {
   "cell_type": "code",
   "execution_count": 19,
   "metadata": {},
   "outputs": [
    {
     "data": {
      "image/png": "[encoded data removed]",
      "text/plain": [
       "<Figure size 432x288 with 1 Axes>"
      ]
     },
     "metadata": {
      "needs_background": "light"
     },
     "output_type": "display_data"
    }
   ],
   "source": [
    "\"\"\" Plotting Time Series\n",
    "\n",
    "\"\"\"\n",
    "import matplotlib.pyplot as plt\n",
    "\n",
    "plt.plot(series)\n",
    "plt.show()"
   ]
  },
  {
   "cell_type": "markdown",
   "metadata": {},
   "source": [
    "### Further Reading\n",
    "- http://pandas.pydata.org/pandas-docs/stable/timeseries.html\n",
    "- http://chrisalbon.com/python/pandas_time_series_basics.html\n",
    "- http://earthpy.org/pandas-basics.html\n"
   ]
  },
  {
   "cell_type": "markdown",
   "metadata": {},
   "source": [
    "# How to Normalize and Standardize Time Series Data in Python\n",
    "Some machine learning algorithms will achieve better performance if your time series data has a consistent scale or distribution\n",
    "\n",
    "## Normalize Time Series Data\n",
    "Normalization is a rescaling of the data from the original range so that all values are within the range of 0 and 1.\n",
    "\n",
    "Normalization can be useful, and even required in some machine learning algorithms when your time series data has input values with differing scales.It may be required for algorithms, like k-Nearest neighbors, which uses distance calculations and Linear Regression and Artificial Neural Networks that weight input values.\n",
    "\n",
    "Normalization requires that you know or are able to accurately estimate the minimum and maximum observable values. You may be able to estimate these values from your available data. If your time series is trending up or down, estimating these expected values may be difficult and normalization may not be the best method to use on your problem.\n",
    "\n",
    "A value is normalized as follows:\n",
    "\n",
    "$ y = (x-min)/(max-min) $\n",
    "\n",
    "For example, for the temperature data, we could guesstimate the min and max observable values as 30 and -10, which are greatly over and under-estimated. We can then normalize any value like 18.8 as follows:\n",
    "$$\n",
    "y = (x - min) / (max - min) \\\\\n",
    "y = (18.8 - -10) / (30 - -10) \\\\\n",
    "y = 28.8 / 40 \\\\\n",
    "y = 0.72 \n",
    "$$\n",
    "(也就是说最值不一定从已有数据中观测，也可以自己提前定义)\n",
    "You can see that if an x value is provided that is outside the bounds of the minimum and maximum values, that the resulting value will not be in the range of 0 and 1. You could check for these observations prior to making predictions and either remove them from the dataset or limit them to the pre-defined maximum or minimum values.\n",
    "\n",
    "You can normalize your dataset using the scikit-learn object MinMaxScaler.\n",
    "\n",
    "Good practice usage with the MinMaxScaler and other rescaling techniques is as follows:\n",
    "\n",
    "- Fit the scaler using available training data. For normalization, this means the training data will be used to estimate the minimum and maximum observable values. This is done by calling the fit() function,\n",
    "- Apply the scale to training data. This means you can use the normalized data to train your model. This is done by calling the transform() function\n",
    "- Apply the scale to data going forward. This means you can prepare new data in the future on which you want to make predictions.\n",
    "\n",
    "If needed, the transform can be inverted. This is useful for converting predictions back into their original scale for reporting or plotting. This can be done by calling the **inverse_transform()** function."
   ]
  },
  {
   "cell_type": "code",
   "execution_count": 20,
   "metadata": {},
   "outputs": [
    {
     "name": "stderr",
     "output_type": "stream",
     "text": [
      "/home/ubuntu16/venv/lib/python3.5/importlib/_bootstrap.py:222: RuntimeWarning: numpy.ufunc size changed, may indicate binary incompatibility. Expected 192 from C header, got 216 from PyObject\n",
      "  return f(*args, **kwds)\n",
      "/home/ubuntu16/venv/lib/python3.5/importlib/_bootstrap.py:222: RuntimeWarning: numpy.dtype size changed, may indicate binary incompatibility. Expected 96, got 88\n",
      "  return f(*args, **kwds)\n",
      "/home/ubuntu16/venv/lib/python3.5/importlib/_bootstrap.py:222: RuntimeWarning: numpy.ufunc size changed, may indicate binary incompatibility. Expected 216, got 192\n",
      "  return f(*args, **kwds)\n",
      "/home/ubuntu16/venv/lib/python3.5/importlib/_bootstrap.py:222: RuntimeWarning: numpy.ufunc size changed, may indicate binary incompatibility. Expected 192 from C header, got 216 from PyObject\n",
      "  return f(*args, **kwds)\n",
      "/home/ubuntu16/venv/lib/python3.5/importlib/_bootstrap.py:222: RuntimeWarning: numpy.ufunc size changed, may indicate binary incompatibility. Expected 192 from C header, got 216 from PyObject\n",
      "  return f(*args, **kwds)\n"
     ]
    },
    {
     "name": "stdout",
     "output_type": "stream",
     "text": [
      "Date\n",
      "1981-01-01    20.7\n",
      "1981-01-02    17.9\n",
      "1981-01-03    18.8\n",
      "1981-01-04    14.6\n",
      "1981-01-05    15.8\n",
      "Name: Temp, dtype: float64\n",
      "Min: 0.000000, Max: 26.300000\n",
      "[0.78707224]\n",
      "[0.68060837]\n",
      "[0.7148289]\n",
      "[0.55513308]\n",
      "[0.60076046]\n",
      "[20.7]\n",
      "[17.9]\n",
      "[18.8]\n",
      "[14.6]\n",
      "[15.8]\n"
     ]
    },
    {
     "name": "stderr",
     "output_type": "stream",
     "text": [
      "/home/ubuntu16/venv/lib/python3.5/importlib/_bootstrap.py:222: RuntimeWarning: numpy.dtype size changed, may indicate binary incompatibility. Expected 96, got 88\n",
      "  return f(*args, **kwds)\n",
      "/home/ubuntu16/venv/lib/python3.5/importlib/_bootstrap.py:222: RuntimeWarning: numpy.ufunc size changed, may indicate binary incompatibility. Expected 216, got 192\n",
      "  return f(*args, **kwds)\n",
      "/home/ubuntu16/venv/lib/python3.5/site-packages/pandas/core/series.py:4141: FutureWarning: from_csv is deprecated. Please use read_csv(...) instead. Note that some of the default arguments are different, so please refer to the documentation for from_csv when changing your function calls\n",
      "  infer_datetime_format=infer_datetime_format)\n"
     ]
    }
   ],
   "source": [
    "# Normalize time series data\n",
    "from pandas import Series\n",
    "from sklearn.preprocessing import MinMaxScaler\n",
    "\n",
    "# load the dataset and print the first 5 rows\n",
    "series = Series.from_csv('dataset/daily-min-temperatures.csv',\n",
    "                         header=0)\n",
    "print(series.head())\n",
    "\n",
    "# reshape data for normalization\n",
    "# since scaler requires data to be provided as a matrix \n",
    "# of rows and columns. \n",
    "values = series.values\n",
    "values = values.reshape((len(values), 1))\n",
    "\n",
    "# fit the scaler\n",
    "scaler = MinMaxScaler(feature_range=(0, 1))\n",
    "scaler = scaler.fit(values)\n",
    "print('Min: %f, Max: %f' % (scaler.data_min_, scaler.data_max_))\n",
    "\n",
    "# normalize the dataset and print the first 5 rows\n",
    "normalized = scaler.transform(values)\n",
    "\n",
    "for i in range(5):\n",
    "    print(normalized[i])\n",
    "    \n",
    "# inverse transform and print the first 5 rows\n",
    "inversed = scaler.inverse_transform(normalized)\n",
    "for i in range(5):\n",
    "    print(inversed[i])"
   ]
  },
  {
   "cell_type": "markdown",
   "metadata": {},
   "source": [
    "## Standardize Time Series Data\n",
    "Standardizing a dataset involves rescaling the distribution of values so that \n",
    "- the mean of observed values is 0 \n",
    "- and the standard deviation is 1.\n",
    "\n",
    "This can be thought of as subtracting the mean value or centering the data.\n",
    "\n",
    "- Like normalization, standardization can be useful, and even required in some machine learning algorithms when your time series data has input values with differing scales.\n",
    "\n",
    "- **Standardization assumes that your observations fit a Gaussian distribution (bell curve) with a well behaved mean and standard deviation. You can still standardize your time series data if this expectation is not met, but you may not get reliable results.**\n",
    "\n",
    "- This includes algorithms like Support Vector Machines, Linear and Logistic Regression, and other algorithms that assume or have improved performance with Gaussian data.\n",
    "\n",
    "Standardization requires that you know or are able to accurately estimate the mean and standard deviation of observable values. You may be able to estimate these values from your training data.\n",
    "\n",
    "A value is standardized as follows:\n",
    "\n",
    "y=(x-mean)/standard_deviation\n",
    "\n",
    "where \n",
    "\n",
    "mean = sum(x)/count(x)\n",
    "\n",
    "standard_deviation = sqrt(sum(x-mean)^2 / count(x))\n",
    "\n",
    "***The mean and standard deviation estimates of a dataset can be more robust to new data than the minimum and maximum.***"
   ]
  },
  {
   "cell_type": "code",
   "execution_count": 22,
   "metadata": {},
   "outputs": [
    {
     "data": {
      "image/png": "[encoded data removed]",
      "text/plain": [
       "<Figure size 432x288 with 1 Axes>"
      ]
     },
     "metadata": {
      "needs_background": "light"
     },
     "output_type": "display_data"
    }
   ],
   "source": [
    "import matplotlib.pyplot as plt\n",
    "# plot a  histogram\n",
    "series.hist()\n",
    "plt.show()"
   ]
  },
  {
   "cell_type": "code",
   "execution_count": 24,
   "metadata": {},
   "outputs": [
    {
     "name": "stdout",
     "output_type": "stream",
     "text": [
      "Date\n",
      "1981-01-01    20.7\n",
      "1981-01-02    17.9\n",
      "1981-01-03    18.8\n",
      "1981-01-04    14.6\n",
      "1981-01-05    15.8\n",
      "Name: Temp, dtype: float64\n",
      "Mean: 11.177753, StandardDeviation: 4.071279\n",
      "[2.33888328]\n",
      "[1.65113873]\n",
      "[1.87219948]\n",
      "[0.84058266]\n",
      "[1.13533032]\n",
      "[20.7]\n",
      "[17.9]\n",
      "[18.8]\n",
      "[14.6]\n",
      "[15.8]\n"
     ]
    },
    {
     "name": "stderr",
     "output_type": "stream",
     "text": [
      "/home/ubuntu16/venv/lib/python3.5/site-packages/pandas/core/series.py:4141: FutureWarning: from_csv is deprecated. Please use read_csv(...) instead. Note that some of the default arguments are different, so please refer to the documentation for from_csv when changing your function calls\n",
      "  infer_datetime_format=infer_datetime_format)\n"
     ]
    }
   ],
   "source": [
    "# Standardize time series data\n",
    "from pandas import Series\n",
    "from sklearn.preprocessing import StandardScaler\n",
    "from math import sqrt\n",
    "# load the dataset and print the first 5 rows\n",
    "series = Series.from_csv('dataset/daily-min-temperatures.csv', \n",
    "                         header=0)\n",
    "print(series.head())\n",
    "\n",
    "# prepare data for standardization\n",
    "values = series.values\n",
    "values = values.reshape((len(values), 1))\n",
    "\n",
    "# fit the scaler\n",
    "scaler = StandardScaler() # notice here!\n",
    "scaler = scaler.fit(values)\n",
    "\n",
    "print('Mean: %f, StandardDeviation: %f' % (scaler.mean_, \n",
    "                                           sqrt(scaler.var_)))\n",
    "\n",
    "# standardization the dataset and print the first 5 rows\n",
    "normalized = scaler.transform(values)\n",
    "for i in range(5):\n",
    "    print(normalized[i])\n",
    "# inverse transform and print the first 5 rows\n",
    "\n",
    "inversed = scaler.inverse_transform(normalized)\n",
    "for i in range(5):\n",
    "    print(inversed[i])"
   ]
  },
  {
   "cell_type": "code",
   "execution_count": null,
   "metadata": {},
   "outputs": [],
   "source": []
  },
  {
   "cell_type": "code",
   "execution_count": null,
   "metadata": {},
   "outputs": [],
   "source": []
  },
  {
   "cell_type": "code",
   "execution_count": null,
   "metadata": {},
   "outputs": [],
   "source": []
  },
  {
   "cell_type": "code",
   "execution_count": null,
   "metadata": {},
   "outputs": [],
   "source": [
    "感觉不用平移啊"
   ]
  }
 ],
 "metadata": {
  "kernelspec": {
   "display_name": "Python 3",
   "language": "python",
   "name": "python3"
  },
  "language_info": {
   "codemirror_mode": {
    "name": "ipython",
    "version": 3
   },
   "file_extension": ".py",
   "mimetype": "text/x-python",
   "name": "python",
   "nbconvert_exporter": "python",
   "pygments_lexer": "ipython3",
   "version": "3.5.2"
  }
 },
 "nbformat": 4,
 "nbformat_minor": 2
}
