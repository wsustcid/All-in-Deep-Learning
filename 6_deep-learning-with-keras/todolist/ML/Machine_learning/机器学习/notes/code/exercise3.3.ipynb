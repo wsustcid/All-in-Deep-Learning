{
 "cells": [
  {
   "cell_type": "code",
   "execution_count": 1,
   "metadata": {
    "collapsed": true
   },
   "outputs": [],
   "source": [
    "%matplotlib inline\n",
    "import numpy as np\n",
    "import pandas as pd  \n",
    "from matplotlib import pyplot as plt \n",
    "from mpl_toolkits.mplot3d import Axes3D"
   ]
  },
  {
   "cell_type": "code",
   "execution_count": 2,
   "metadata": {
    "collapsed": false
   },
   "outputs": [
    {
     "data": {
      "text/html": [
       "<div>\n",
       "<table border=\"1\" class=\"dataframe\">\n",
       "  <thead>\n",
       "    <tr style=\"text-align: right;\">\n",
       "      <th></th>\n",
       "      <th>ID</th>\n",
       "      <th>density</th>\n",
       "      <th>Sugar_content</th>\n",
       "      <th>label</th>\n",
       "      <th>intercept</th>\n",
       "    </tr>\n",
       "  </thead>\n",
       "  <tbody>\n",
       "    <tr>\n",
       "      <th>0</th>\n",
       "      <td>1</td>\n",
       "      <td>0.697</td>\n",
       "      <td>0.4600</td>\n",
       "      <td>1</td>\n",
       "      <td>1.0</td>\n",
       "    </tr>\n",
       "    <tr>\n",
       "      <th>1</th>\n",
       "      <td>2</td>\n",
       "      <td>0.774</td>\n",
       "      <td>0.3760</td>\n",
       "      <td>1</td>\n",
       "      <td>1.0</td>\n",
       "    </tr>\n",
       "    <tr>\n",
       "      <th>2</th>\n",
       "      <td>3</td>\n",
       "      <td>0.634</td>\n",
       "      <td>0.2640</td>\n",
       "      <td>1</td>\n",
       "      <td>1.0</td>\n",
       "    </tr>\n",
       "    <tr>\n",
       "      <th>3</th>\n",
       "      <td>4</td>\n",
       "      <td>0.608</td>\n",
       "      <td>0.3180</td>\n",
       "      <td>1</td>\n",
       "      <td>1.0</td>\n",
       "    </tr>\n",
       "    <tr>\n",
       "      <th>4</th>\n",
       "      <td>5</td>\n",
       "      <td>0.556</td>\n",
       "      <td>0.2150</td>\n",
       "      <td>1</td>\n",
       "      <td>1.0</td>\n",
       "    </tr>\n",
       "    <tr>\n",
       "      <th>5</th>\n",
       "      <td>6</td>\n",
       "      <td>0.403</td>\n",
       "      <td>0.2370</td>\n",
       "      <td>1</td>\n",
       "      <td>1.0</td>\n",
       "    </tr>\n",
       "    <tr>\n",
       "      <th>6</th>\n",
       "      <td>7</td>\n",
       "      <td>0.481</td>\n",
       "      <td>0.1490</td>\n",
       "      <td>1</td>\n",
       "      <td>1.0</td>\n",
       "    </tr>\n",
       "    <tr>\n",
       "      <th>7</th>\n",
       "      <td>8</td>\n",
       "      <td>0.437</td>\n",
       "      <td>0.2110</td>\n",
       "      <td>1</td>\n",
       "      <td>1.0</td>\n",
       "    </tr>\n",
       "    <tr>\n",
       "      <th>8</th>\n",
       "      <td>9</td>\n",
       "      <td>0.666</td>\n",
       "      <td>0.0910</td>\n",
       "      <td>0</td>\n",
       "      <td>1.0</td>\n",
       "    </tr>\n",
       "    <tr>\n",
       "      <th>9</th>\n",
       "      <td>10</td>\n",
       "      <td>0.243</td>\n",
       "      <td>0.0267</td>\n",
       "      <td>0</td>\n",
       "      <td>1.0</td>\n",
       "    </tr>\n",
       "    <tr>\n",
       "      <th>10</th>\n",
       "      <td>11</td>\n",
       "      <td>0.245</td>\n",
       "      <td>0.0570</td>\n",
       "      <td>0</td>\n",
       "      <td>1.0</td>\n",
       "    </tr>\n",
       "    <tr>\n",
       "      <th>11</th>\n",
       "      <td>12</td>\n",
       "      <td>0.343</td>\n",
       "      <td>0.0990</td>\n",
       "      <td>0</td>\n",
       "      <td>1.0</td>\n",
       "    </tr>\n",
       "    <tr>\n",
       "      <th>12</th>\n",
       "      <td>13</td>\n",
       "      <td>0.639</td>\n",
       "      <td>0.1610</td>\n",
       "      <td>0</td>\n",
       "      <td>1.0</td>\n",
       "    </tr>\n",
       "    <tr>\n",
       "      <th>13</th>\n",
       "      <td>14</td>\n",
       "      <td>0.657</td>\n",
       "      <td>0.1980</td>\n",
       "      <td>0</td>\n",
       "      <td>1.0</td>\n",
       "    </tr>\n",
       "    <tr>\n",
       "      <th>14</th>\n",
       "      <td>15</td>\n",
       "      <td>0.360</td>\n",
       "      <td>0.3700</td>\n",
       "      <td>0</td>\n",
       "      <td>1.0</td>\n",
       "    </tr>\n",
       "    <tr>\n",
       "      <th>15</th>\n",
       "      <td>16</td>\n",
       "      <td>0.593</td>\n",
       "      <td>0.0420</td>\n",
       "      <td>0</td>\n",
       "      <td>1.0</td>\n",
       "    </tr>\n",
       "    <tr>\n",
       "      <th>16</th>\n",
       "      <td>17</td>\n",
       "      <td>0.719</td>\n",
       "      <td>0.1030</td>\n",
       "      <td>0</td>\n",
       "      <td>1.0</td>\n",
       "    </tr>\n",
       "  </tbody>\n",
       "</table>\n",
       "</div>"
      ],
      "text/plain": [
       "    ID  density  Sugar_content  label  intercept\n",
       "0    1    0.697         0.4600      1        1.0\n",
       "1    2    0.774         0.3760      1        1.0\n",
       "2    3    0.634         0.2640      1        1.0\n",
       "3    4    0.608         0.3180      1        1.0\n",
       "4    5    0.556         0.2150      1        1.0\n",
       "5    6    0.403         0.2370      1        1.0\n",
       "6    7    0.481         0.1490      1        1.0\n",
       "7    8    0.437         0.2110      1        1.0\n",
       "8    9    0.666         0.0910      0        1.0\n",
       "9   10    0.243         0.0267      0        1.0\n",
       "10  11    0.245         0.0570      0        1.0\n",
       "11  12    0.343         0.0990      0        1.0\n",
       "12  13    0.639         0.1610      0        1.0\n",
       "13  14    0.657         0.1980      0        1.0\n",
       "14  15    0.360         0.3700      0        1.0\n",
       "15  16    0.593         0.0420      0        1.0\n",
       "16  17    0.719         0.1030      0        1.0"
      ]
     },
     "execution_count": 2,
     "metadata": {},
     "output_type": "execute_result"
    }
   ],
   "source": [
    "#读入csv文件数据  \n",
    "df = pd.read_csv('../resource/watermelon3.0alpha.csv')\n",
    "df['intercept'] = 1.0  \n",
    "df"
   ]
  },
  {
   "cell_type": "code",
   "execution_count": 3,
   "metadata": {
    "collapsed": false
   },
   "outputs": [],
   "source": [
    "dataMat = np.array(df[['density','Sugar_content','intercept']].values[:,:])  "
   ]
  },
  {
   "cell_type": "code",
   "execution_count": 4,
   "metadata": {
    "collapsed": false
   },
   "outputs": [],
   "source": [
    "labelMat = np.mat(df['label'].values[:]).transpose()  "
   ]
  },
  {
   "cell_type": "code",
   "execution_count": 5,
   "metadata": {
    "collapsed": false
   },
   "outputs": [],
   "source": [
    "def sigmoid(z):  \n",
    "    return 1.0 / (1 + np.exp(-z))  "
   ]
  },
  {
   "cell_type": "code",
   "execution_count": 6,
   "metadata": {
    "collapsed": false
   },
   "outputs": [],
   "source": [
    "def LogisticRegression(dataMat,labelMat):  \n",
    "    m,n = np.shape(dataMat)  \n",
    "    alpha = 0.05       # 步长\n",
    "    iterations = 2000  # 最大迭代次数\n",
    "    weights = np.array(np.array(np.ones((n,1))))  # 初始权重\n",
    "    \n",
    "    # 用梯度上升法更新权重\n",
    "    for k in range(iterations):    \n",
    "        z = np.dot(dataMat,weights)        \n",
    "        error = labelMat - sigmoid(z)            \n",
    "        weights = weights + alpha * np.dot(dataMat.transpose(),error)  \n",
    "        \n",
    "    return weights"
   ]
  },
  {
   "cell_type": "code",
   "execution_count": 7,
   "metadata": {
    "collapsed": false
   },
   "outputs": [],
   "source": [
    "def DrawResult(weights):  \n",
    "    m = np.shape(dataMat)[0]  \n",
    "    xcord1, ycord1, zcord1= [], [], []\n",
    "    xcord2, ycord2, zcord2= [], [], []\n",
    "    xcord3, ycord3, zcord3= [], [], []\n",
    "    xcord4, ycord4, zcord4= [], [], []\n",
    "    \n",
    "    # 按照类别划分数据点\n",
    "    for i in range(m):  \n",
    "        if labelMat[i]==1:  \n",
    "            z = sigmoid(dataMat[i,:] * weights)\n",
    "            if z>= 0.5:\n",
    "                xcord1.append(dataMat[i,0])  \n",
    "                ycord1.append(dataMat[i,1]) \n",
    "                zcord1.append(z)\n",
    "            else:\n",
    "                xcord2.append(dataMat[i,0])  \n",
    "                ycord2.append(dataMat[i,1]) \n",
    "                zcord2.append(z)\n",
    "        else:  \n",
    "            z = sigmoid(dataMat[i,:] * weights)\n",
    "            if z< 0.5:\n",
    "                xcord3.append(dataMat[i,0])  \n",
    "                ycord3.append(dataMat[i,1]) \n",
    "                zcord3.append(z)\n",
    "            else:\n",
    "                xcord4.append(dataMat[i,0])  \n",
    "                ycord4.append(dataMat[i,1]) \n",
    "                zcord4.append(z)\n",
    "    \n",
    "    # 创建三维图表\n",
    "    fig = plt.figure()  \n",
    "    ax = Axes3D(fig)\n",
    "    \n",
    "    # 画出判决平面\n",
    "    x = np.arange(0.2,1.0,0.1)\n",
    "    y = np.arange(0.0,0.6,0.1)\n",
    "    X, Y = np.meshgrid(x, y)\n",
    "    z = np.array([0.5 for x,y in zip(np.ravel(X), np.ravel(Y))])\n",
    "    Z = z.reshape(X.shape)    \n",
    "    ax.plot_surface(X, Y, Z, rstride=10, cstride=10, color=(0,0.6,0.6,0.1))\n",
    "    \n",
    "    # 按类别画出数据点\n",
    "    ax.scatter(xcord1,ycord1,zcord1,s=30,c='red') \n",
    "    ax.scatter(xcord2,ycord2,zcord2,s=30,c='red',marker='x')  \n",
    "    ax.scatter(xcord3,ycord3,zcord3,s=30,c='green') \n",
    "    ax.scatter(xcord4,ycord4,zcord4,s=30,c='green',marker='x')  \n",
    "    \n",
    "    ax.set_xlim(0.0,1.0)\n",
    "    ax.set_ylim(-0.1,0.7)\n",
    "    ax.set_zlim(-0.2,1.2)\n",
    "    ax.set_xlabel('density')  \n",
    "    ax.set_ylabel('Sugar content')\n",
    "    ax.set_zlabel('Logit')\n",
    "    plt.title('Gradient ascent logistic regression')\n",
    "    plt.show()"
   ]
  },
  {
   "cell_type": "code",
   "execution_count": 8,
   "metadata": {
    "collapsed": false
   },
   "outputs": [],
   "source": [
    "weights = LogisticRegression(dataMat,labelMat)  "
   ]
  },
  {
   "cell_type": "code",
   "execution_count": 9,
   "metadata": {
    "collapsed": false
   },
   "outputs": [
    {
     "data": {
      "image/png": "[encoded data removed]",
      "text/plain": [
       "<matplotlib.figure.Figure at 0x2677123bcc0>"
      ]
     },
     "metadata": {},
     "output_type": "display_data"
    }
   ],
   "source": [
    "DrawResult(weights) "
   ]
  },
  {
   "cell_type": "code",
   "execution_count": null,
   "metadata": {
    "collapsed": true
   },
   "outputs": [],
   "source": []
  }
 ],
 "metadata": {
  "kernelspec": {
   "display_name": "Python 3",
   "language": "python",
   "name": "python3"
  },
  "language_info": {
   "codemirror_mode": {
    "name": "ipython",
    "version": 3
   },
   "file_extension": ".py",
   "mimetype": "text/x-python",
   "name": "python",
   "nbconvert_exporter": "python",
   "pygments_lexer": "ipython3",
   "version": "3.5.1"
  }
 },
 "nbformat": 4,
 "nbformat_minor": 0
}
