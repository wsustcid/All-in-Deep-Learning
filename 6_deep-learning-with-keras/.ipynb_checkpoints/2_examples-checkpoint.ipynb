{
 "cells": [
  {
   "cell_type": "markdown",
   "metadata": {},
   "source": [
    "# 基于多层感知器 (MLP) 的 softmax 多分类"
   ]
  },
  {
   "cell_type": "code",
   "execution_count": 8,
   "metadata": {},
   "outputs": [
    {
     "name": "stdout",
     "output_type": "stream",
     "text": [
      "Epoch 1/20\n",
      "1000/1000 [==============================] - 0s 172us/step - loss: 2.4290 - acc: 0.1030\n",
      "Epoch 2/20\n",
      "1000/1000 [==============================] - 0s 14us/step - loss: 2.3688 - acc: 0.1090\n",
      "Epoch 3/20\n",
      "1000/1000 [==============================] - 0s 14us/step - loss: 2.3620 - acc: 0.1080\n",
      "Epoch 4/20\n",
      "1000/1000 [==============================] - 0s 16us/step - loss: 2.3373 - acc: 0.1090\n",
      "Epoch 5/20\n",
      "1000/1000 [==============================] - 0s 14us/step - loss: 2.3257 - acc: 0.1110\n",
      "Epoch 6/20\n",
      "1000/1000 [==============================] - 0s 14us/step - loss: 2.3229 - acc: 0.1010\n",
      "Epoch 7/20\n",
      "1000/1000 [==============================] - 0s 14us/step - loss: 2.3183 - acc: 0.1020\n",
      "Epoch 8/20\n",
      "1000/1000 [==============================] - 0s 15us/step - loss: 2.3129 - acc: 0.0900\n",
      "Epoch 9/20\n",
      "1000/1000 [==============================] - 0s 16us/step - loss: 2.3107 - acc: 0.1060\n",
      "Epoch 10/20\n",
      "1000/1000 [==============================] - 0s 15us/step - loss: 2.3071 - acc: 0.1050\n",
      "Epoch 11/20\n",
      "1000/1000 [==============================] - 0s 13us/step - loss: 2.3160 - acc: 0.1200\n",
      "Epoch 12/20\n",
      "1000/1000 [==============================] - 0s 15us/step - loss: 2.3018 - acc: 0.1140\n",
      "Epoch 13/20\n",
      "1000/1000 [==============================] - 0s 14us/step - loss: 2.3060 - acc: 0.1280\n",
      "Epoch 14/20\n",
      "1000/1000 [==============================] - 0s 13us/step - loss: 2.3012 - acc: 0.1170\n",
      "Epoch 15/20\n",
      "1000/1000 [==============================] - 0s 14us/step - loss: 2.3044 - acc: 0.0980\n",
      "Epoch 16/20\n",
      "1000/1000 [==============================] - 0s 14us/step - loss: 2.3054 - acc: 0.1090\n",
      "Epoch 17/20\n",
      "1000/1000 [==============================] - 0s 15us/step - loss: 2.3004 - acc: 0.1150\n",
      "Epoch 18/20\n",
      "1000/1000 [==============================] - 0s 15us/step - loss: 2.2993 - acc: 0.1190\n",
      "Epoch 19/20\n",
      "1000/1000 [==============================] - 0s 14us/step - loss: 2.2987 - acc: 0.1000\n",
      "Epoch 20/20\n",
      "1000/1000 [==============================] - 0s 15us/step - loss: 2.3014 - acc: 0.1070\n",
      "100/100 [==============================] - 0s 463us/step\n",
      "[2.2940096855163574, 0.10999999940395355]\n"
     ]
    }
   ],
   "source": [
    "from keras.utils import to_categorical\n",
    "from keras.models import Sequential\n",
    "from keras.layers import Dense, Dropout\n",
    "from keras.optimizers import SGD\n",
    "\n",
    "import numpy as np\n",
    "\n",
    "# 生成虚拟数据\n",
    "x_train = np.random.random((1000, 20))\n",
    "y_train = to_categorical(np.random.randint(10, size=(1000,1)), \n",
    "                         num_classes=10)\n",
    "\n",
    "x_test = np.random.random((100,20))\n",
    "y_test = to_categorical(np.random.randint(10, size=(100,1)), \n",
    "                         num_classes=10)\n",
    "\n",
    "# 创建模型\n",
    "model = Sequential()\n",
    "model.add(Dense(64, activation='relu', input_dim=20))\n",
    "model.add(Dropout(0.5))\n",
    "\n",
    "model.add(Dense(64, activation='relu'))\n",
    "model.add(Dropout(0.5))\n",
    "\n",
    "model.add(Dense(10, activation='softmax'))\n",
    "\n",
    "sgd = SGD(lr=0.01, decay=1e-6, momentum=0.9, nesterov=True)\n",
    "\n",
    "# 编译模型\n",
    "model.compile(loss='categorical_crossentropy',\n",
    "             optimizer=sgd,\n",
    "             metrics=['accuracy'])\n",
    "\n",
    "# 拟合模型\n",
    "model.fit(x_train, y_train,\n",
    "         epochs=20,\n",
    "         batch_size=128)\n",
    "\n",
    "score = model.evaluate(x_test, y_test, batch_size=128)\n",
    "\n",
    "print(score)"
   ]
  },
  {
   "cell_type": "markdown",
   "metadata": {},
   "source": [
    "# 基于多层感知器的二分类\n",
    "\n",
    "主要不同：\n",
    "- 标签为二值标签\n",
    "- 最后一层激活函数采用 sigmoid\n",
    "- loss fun 采用 binary_crossentropy\n"
   ]
  },
  {
   "cell_type": "markdown",
   "metadata": {},
   "source": [
    "# 类似VGG的卷积神经网络"
   ]
  },
  {
   "cell_type": "markdown",
   "metadata": {},
   "source": []
  },
  {
   "cell_type": "code",
   "execution_count": 2,
   "metadata": {},
   "outputs": [
    {
     "data": {
      "text/html": [
       "<img src=\"imgs/regular_stacked_lstm.png\" />\n"
      ],
      "text/plain": [
       "<IPython.core.display.HTML object>"
      ]
     },
     "metadata": {},
     "output_type": "display_data"
    }
   ],
   "source": [
    "dd"
   ]
  },
  {
   "cell_type": "code",
   "execution_count": null,
   "metadata": {},
   "outputs": [],
   "source": []
  },
  {
   "cell_type": "code",
   "execution_count": null,
   "metadata": {},
   "outputs": [],
   "source": []
  },
  {
   "cell_type": "code",
   "execution_count": null,
   "metadata": {},
   "outputs": [],
   "source": []
  }
 ],
 "metadata": {
  "kernelspec": {
   "display_name": "Python 3",
   "language": "python",
   "name": "python3"
  },
  "language_info": {
   "codemirror_mode": {
    "name": "ipython",
    "version": 3
   },
   "file_extension": ".py",
   "mimetype": "text/x-python",
   "name": "python",
   "nbconvert_exporter": "python",
   "pygments_lexer": "ipython3",
   "version": "3.5.2"
  }
 },
 "nbformat": 4,
 "nbformat_minor": 2
}
