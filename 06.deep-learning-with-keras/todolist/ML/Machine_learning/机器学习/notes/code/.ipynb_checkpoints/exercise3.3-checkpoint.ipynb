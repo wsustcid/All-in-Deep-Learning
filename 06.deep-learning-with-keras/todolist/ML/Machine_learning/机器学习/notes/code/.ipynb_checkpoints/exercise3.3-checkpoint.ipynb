{
 "cells": [
  {
   "cell_type": "code",
   "execution_count": 24,
   "metadata": {
    "collapsed": true
   },
   "outputs": [],
   "source": [
    "%matplotlib inline\n",
    "import numpy as np\n",
    "import pandas as pd  \n",
    "from matplotlib import pyplot as plt \n",
    "from mpl_toolkits.mplot3d import Axes3D"
   ]
  },
  {
   "cell_type": "code",
   "execution_count": 25,
   "metadata": {
    "collapsed": false
   },
   "outputs": [
    {
     "data": {
      "text/html": [
       "<div>\n",
       "<table border=\"1\" class=\"dataframe\">\n",
       "  <thead>\n",
       "    <tr style=\"text-align: right;\">\n",
       "      <th></th>\n",
       "      <th>ID</th>\n",
       "      <th>density</th>\n",
       "      <th>Sugar_content</th>\n",
       "      <th>label</th>\n",
       "      <th>intercept</th>\n",
       "    </tr>\n",
       "  </thead>\n",
       "  <tbody>\n",
       "    <tr>\n",
       "      <th>0</th>\n",
       "      <td>1</td>\n",
       "      <td>0.697</td>\n",
       "      <td>0.460</td>\n",
       "      <td>1</td>\n",
       "      <td>1.0</td>\n",
       "    </tr>\n",
       "    <tr>\n",
       "      <th>1</th>\n",
       "      <td>2</td>\n",
       "      <td>0.774</td>\n",
       "      <td>0.376</td>\n",
       "      <td>1</td>\n",
       "      <td>1.0</td>\n",
       "    </tr>\n",
       "    <tr>\n",
       "      <th>2</th>\n",
       "      <td>3</td>\n",
       "      <td>0.634</td>\n",
       "      <td>0.264</td>\n",
       "      <td>1</td>\n",
       "      <td>1.0</td>\n",
       "    </tr>\n",
       "    <tr>\n",
       "      <th>3</th>\n",
       "      <td>4</td>\n",
       "      <td>0.608</td>\n",
       "      <td>0.318</td>\n",
       "      <td>1</td>\n",
       "      <td>1.0</td>\n",
       "    </tr>\n",
       "    <tr>\n",
       "      <th>4</th>\n",
       "      <td>5</td>\n",
       "      <td>0.556</td>\n",
       "      <td>0.215</td>\n",
       "      <td>1</td>\n",
       "      <td>1.0</td>\n",
       "    </tr>\n",
       "  </tbody>\n",
       "</table>\n",
       "</div>"
      ],
      "text/plain": [
       "   ID  density  Sugar_content  label  intercept\n",
       "0   1    0.697          0.460      1        1.0\n",
       "1   2    0.774          0.376      1        1.0\n",
       "2   3    0.634          0.264      1        1.0\n",
       "3   4    0.608          0.318      1        1.0\n",
       "4   5    0.556          0.215      1        1.0"
      ]
     },
     "execution_count": 25,
     "metadata": {},
     "output_type": "execute_result"
    }
   ],
   "source": [
    "#读入csv文件数据  \n",
    "df = pd.read_csv('../resource/watermelon3.0alpha.csv')\n",
    "df['bias'] = np.ones((df.shape[0],1))  \n",
    "df.head()"
   ]
  },
  {
   "cell_type": "code",
   "execution_count": 3,
   "metadata": {
    "collapsed": false
   },
   "outputs": [
    {
     "data": {
      "text/plain": [
       "array([[ 0.697 ,  0.46  ,  1.    ],\n",
       "       [ 0.774 ,  0.376 ,  1.    ],\n",
       "       [ 0.634 ,  0.264 ,  1.    ],\n",
       "       [ 0.608 ,  0.318 ,  1.    ],\n",
       "       [ 0.556 ,  0.215 ,  1.    ],\n",
       "       [ 0.403 ,  0.237 ,  1.    ],\n",
       "       [ 0.481 ,  0.149 ,  1.    ],\n",
       "       [ 0.437 ,  0.211 ,  1.    ],\n",
       "       [ 0.666 ,  0.091 ,  1.    ],\n",
       "       [ 0.243 ,  0.0267,  1.    ],\n",
       "       [ 0.245 ,  0.057 ,  1.    ],\n",
       "       [ 0.343 ,  0.099 ,  1.    ],\n",
       "       [ 0.639 ,  0.161 ,  1.    ],\n",
       "       [ 0.657 ,  0.198 ,  1.    ],\n",
       "       [ 0.36  ,  0.37  ,  1.    ],\n",
       "       [ 0.593 ,  0.042 ,  1.    ],\n",
       "       [ 0.719 ,  0.103 ,  1.    ]])"
      ]
     },
     "execution_count": 3,
     "metadata": {},
     "output_type": "execute_result"
    }
   ],
   "source": [
    "dataMat = np.array(df[['density','Sugar_content','bias']].values[:,:])  \n",
    "dataMat"
   ]
  },
  {
   "cell_type": "code",
   "execution_count": 4,
   "metadata": {
    "collapsed": false
   },
   "outputs": [
    {
     "data": {
      "text/plain": [
       "matrix([[ 1],\n",
       "        [ 1],\n",
       "        [ 1],\n",
       "        [ 1],\n",
       "        [ 1],\n",
       "        [ 1],\n",
       "        [ 1],\n",
       "        [ 1],\n",
       "        [-1],\n",
       "        [-1],\n",
       "        [-1],\n",
       "        [-1],\n",
       "        [-1],\n",
       "        [-1],\n",
       "        [-1],\n",
       "        [-1],\n",
       "        [-1]], dtype=int64)"
      ]
     },
     "execution_count": 4,
     "metadata": {},
     "output_type": "execute_result"
    }
   ],
   "source": [
    "labelMat = np.mat(df['label'].values[:]).transpose()  \n",
    "labelMat"
   ]
  },
  {
   "cell_type": "code",
   "execution_count": 5,
   "metadata": {
    "collapsed": false
   },
   "outputs": [],
   "source": [
    "def sigmoid(z):  \n",
    "    return 1.0 / (1 + np.exp(-z))  "
   ]
  },
  {
   "cell_type": "code",
   "execution_count": 21,
   "metadata": {
    "collapsed": false
   },
   "outputs": [],
   "source": [
    "def LogisticRegression(dataMat,labelMat):  \n",
    "    m,n = np.shape(dataMat)  \n",
    "    alpha = 0.0001       # 步长\n",
    "    iterations = 500  # 最大迭代次数\n",
    "    weights = np.array(np.array(np.ones((n,1))))  # 初始权重\n",
    "    \n",
    "    fore_error = 9999\n",
    "    # 用梯度上升法更新权重\n",
    "    #for k in range(iterations):   \n",
    "    while True:   \n",
    "        z = np.dot(dataMat,weights)        \n",
    "        error = labelMat - sigmoid(z)\n",
    "        if(np.linalg.norm(error,ord=2) > fore_error):\n",
    "            break\n",
    "        else:\n",
    "            fore_error = np.linalg.norm(error,ord=2)\n",
    "            \n",
    "        weights = weights - alpha * dataMat.transpose() * error\n",
    "        \n",
    "    return weights"
   ]
  },
  {
   "cell_type": "code",
   "execution_count": 22,
   "metadata": {
    "collapsed": false
   },
   "outputs": [],
   "source": [
    "def DrawResult(weights):  \n",
    "    m = np.shape(dataMat)[0]  \n",
    "    xcord1, ycord1, zcord1= [], [], []\n",
    "    xcord2, ycord2, zcord2= [], [], []\n",
    "    \n",
    "    # 按照类别划分数据点\n",
    "    for i in range(m):  \n",
    "        if labelMat[i]==1:  \n",
    "            xcord1.append(dataMat[i,0])  \n",
    "            ycord1.append(dataMat[i,1]) \n",
    "            zcord1.append(sigmoid(dataMat[i,:] * weights))\n",
    "        else:  \n",
    "            xcord2.append(dataMat[i,0])  \n",
    "            ycord2.append(dataMat[i,1]) \n",
    "            zcord2.append(sigmoid(dataMat[i,:] * weights))\n",
    "    \n",
    "    # 创建三维图表\n",
    "    fig = plt.figure()  \n",
    "    ax = Axes3D(fig)\n",
    "    \n",
    "    # 画出判决平面\n",
    "    x = dataMat[:,0]\n",
    "    y = dataMat[:,1]\n",
    "    X, Y = np.meshgrid(x, y)\n",
    "    z = np.array([0.5 for x,y in zip(np.ravel(X), np.ravel(Y))])\n",
    "    Z = z.reshape(X.shape)    \n",
    "    ax.plot_surface(X, Y, Z, rstride=10, cstride=10, color=(0,0.6,0.6,0.1))\n",
    "    \n",
    "    # 按类别画出数据点\n",
    "    ax.scatter(xcord1,ycord1,zcord1,s=30,c='red',marker='H')  \n",
    "    ax.scatter(xcord2,ycord2,zcord2,s=30,c='green',marker='o') \n",
    "    \n",
    "    ax.set_xlabel('density')  \n",
    "    ax.set_ylabel('Sugar content')\n",
    "    ax.set_zlabel('Label')\n",
    "    plt.title('Gradient ascent logistic regression')\n",
    "    plt.show()"
   ]
  },
  {
   "cell_type": "code",
   "execution_count": 23,
   "metadata": {
    "collapsed": false
   },
   "outputs": [],
   "source": [
    "weights = LogisticRegression(dataMat,labelMat)  "
   ]
  },
  {
   "cell_type": "code",
   "execution_count": 13,
   "metadata": {
    "collapsed": false
   },
   "outputs": [
    {
     "data": {
      "image/png": "[encoded data removed]",
      "text/plain": [
       "<matplotlib.figure.Figure at 0x1cdf8ebad30>"
      ]
     },
     "metadata": {},
     "output_type": "display_data"
    }
   ],
   "source": [
    "DrawResult(weights) "
   ]
  },
  {
   "cell_type": "code",
   "execution_count": 14,
   "metadata": {
    "collapsed": false
   },
   "outputs": [
    {
     "data": {
      "text/plain": [
       "matrix([[-4.00462655],\n",
       "        [-4.26747101],\n",
       "        [-4.45594422],\n",
       "        [-4.30265962],\n",
       "        [-4.52722021],\n",
       "        [-4.36971043],\n",
       "        [-4.64329123],\n",
       "        [-4.45785355],\n",
       "        [-4.91278111],\n",
       "        [-4.79227418],\n",
       "        [-4.71733799],\n",
       "        [-4.67703292],\n",
       "        [-4.71855374],\n",
       "        [-4.63743269],\n",
       "        [-4.00621887],\n",
       "        [-4.98739473],\n",
       "        [-4.91795351]])"
      ]
     },
     "execution_count": 14,
     "metadata": {},
     "output_type": "execute_result"
    }
   ],
   "source": [
    "z = np.dot(dataMat,weights)  \n",
    "z"
   ]
  },
  {
   "cell_type": "code",
   "execution_count": 149,
   "metadata": {
    "collapsed": false
   },
   "outputs": [
    {
     "data": {
      "text/plain": [
       "matrix([[ 0.5849312 ],\n",
       "        [ 0.35810703],\n",
       "        [ 0.18787266],\n",
       "        [ 0.28851746],\n",
       "        [ 0.13889398],\n",
       "        [ 0.1998274 ],\n",
       "        [ 0.08672972],\n",
       "        [ 0.15589786],\n",
       "        [ 0.03965651],\n",
       "        [ 0.03951005],\n",
       "        [ 0.05214263],\n",
       "        [ 0.06681284],\n",
       "        [ 0.07804283],\n",
       "        [ 0.10554529],\n",
       "        [ 0.4910728 ],\n",
       "        [ 0.02778802],\n",
       "        [ 0.04115665]])"
      ]
     },
     "execution_count": 149,
     "metadata": {},
     "output_type": "execute_result"
    }
   ],
   "source": [
    "h = sigmoid(z)         \n",
    "h"
   ]
  },
  {
   "cell_type": "code",
   "execution_count": 150,
   "metadata": {
    "collapsed": false
   },
   "outputs": [
    {
     "data": {
      "text/plain": [
       "matrix([[ 0.4150688 ],\n",
       "        [ 0.64189297],\n",
       "        [ 0.81212734],\n",
       "        [ 0.71148254],\n",
       "        [ 0.86110602],\n",
       "        [ 0.8001726 ],\n",
       "        [ 0.91327028],\n",
       "        [ 0.84410214],\n",
       "        [-1.03965651],\n",
       "        [-1.03951005],\n",
       "        [-1.05214263],\n",
       "        [-1.06681284],\n",
       "        [-1.07804283],\n",
       "        [-1.10554529],\n",
       "        [-1.4910728 ],\n",
       "        [-1.02778802],\n",
       "        [-1.04115665]])"
      ]
     },
     "execution_count": 150,
     "metadata": {},
     "output_type": "execute_result"
    }
   ],
   "source": [
    "error = labelMat-h\n",
    "error"
   ]
  },
  {
   "cell_type": "code",
   "execution_count": 152,
   "metadata": {
    "collapsed": false
   },
   "outputs": [
    {
     "data": {
      "text/plain": [
       "matrix([[-1.46380362],\n",
       "        [ 9.6896038 ],\n",
       "        [-3.09389669]])"
      ]
     },
     "execution_count": 152,
     "metadata": {},
     "output_type": "execute_result"
    }
   ],
   "source": [
    "weights"
   ]
  },
  {
   "cell_type": "code",
   "execution_count": 153,
   "metadata": {
    "collapsed": true
   },
   "outputs": [],
   "source": [
    "weights = weights + 0.05 * np.dot(dataMat.transpose(),error)"
   ]
  },
  {
   "cell_type": "code",
   "execution_count": 154,
   "metadata": {
    "collapsed": false
   },
   "outputs": [
    {
     "data": {
      "text/plain": [
       "matrix([[-1.54059233],\n",
       "        [ 9.69857288],\n",
       "        [-3.29102194]])"
      ]
     },
     "execution_count": 154,
     "metadata": {},
     "output_type": "execute_result"
    }
   ],
   "source": [
    "weights"
   ]
  },
  {
   "cell_type": "code",
   "execution_count": 208,
   "metadata": {
    "collapsed": false
   },
   "outputs": [
    {
     "data": {
      "image/png": "[encoded data removed]",
      "text/plain": [
       "<matplotlib.figure.Figure at 0x193bd1cad68>"
      ]
     },
     "metadata": {},
     "output_type": "display_data"
    }
   ],
   "source": [
    "# -*- coding: cp936 -*-  \n",
    "from numpy import *  \n",
    "import pandas as pd  \n",
    "import matplotlib.pyplot as plt  \n",
    "  \n",
    "#读入csv文件数据  \n",
    "df = pd.read_csv('../resource/watermelon3.0alpha.csv') \n",
    "m,n = np.shape(df.values)  \n",
    "df['norm'] = np.ones((m,1))  \n",
    "dataMat = np.array(df[['norm','density','Sugar_content']].values[:,:])  \n",
    "labelMat = np.mat(df['label'].values[:]).transpose()  \n",
    "  \n",
    "#sigmoid函数  \n",
    "def sigmoid(inX):  \n",
    "    return 1.0 / (1+np.exp(-inX))  \n",
    "  \n",
    "#梯度上升算法  \n",
    "def gradAscent(dataMat,labelMat):  \n",
    "    m,n = np.shape(dataMat)  \n",
    "    alpha = 0.1  \n",
    "    maxCycles = 500  \n",
    "    weights = np.array(ones((n,1)))  \n",
    "  \n",
    "    for k in range(maxCycles):   \n",
    "        a = dot(dataMat,weights)  \n",
    "        h = sigmoid(a)  \n",
    "        error = (labelMat-h)  \n",
    "        weights = weights + alpha * dot(dataMat.transpose(),error)  \n",
    "    return weights  \n",
    "  \n",
    "#画图  \n",
    "def plotBestFit(weights):  \n",
    "    m = np.shape(dataMat)[0]  \n",
    "    xcord1=[]  \n",
    "    ycord1=[]  \n",
    "    xcord2=[]  \n",
    "    ycord2=[]  \n",
    "    for i in range(m):  \n",
    "        if labelMat[i]==1:  \n",
    "            xcord1.append(dataMat[i,1])  \n",
    "            ycord1.append(dataMat[i,2])  \n",
    "        else:  \n",
    "            xcord2.append(dataMat[i,1])  \n",
    "            ycord2.append(dataMat[i,2])  \n",
    "    plt.figure(1)  \n",
    "    ax = plt.subplot(111)  \n",
    "    ax.scatter(xcord1,ycord1,s=30,c='red',marker='s')  \n",
    "    ax.scatter(xcord2,ycord2,s=30,c='green')  \n",
    "    \n",
    "    x = np.arange(0.2,1.0,0.1)  \n",
    "    y = np.array(-(weights[0]+weights[1]*x)/weights[2])[0]\n",
    "    plt.sca(ax)  \n",
    "    plt.plot(x,y)\n",
    "    plt.xlabel('density')  \n",
    "    plt.ylabel('Sugar_content')  \n",
    "    plt.title('gradAscent logistic regression') \n",
    "    plt.show()  \n",
    "\n",
    "\n",
    "weights=gradAscent(dataMat,labelMat)  \n",
    "plotBestFit(weights)  "
   ]
  },
  {
   "cell_type": "code",
   "execution_count": 202,
   "metadata": {
    "collapsed": false
   },
   "outputs": [
    {
     "data": {
      "text/plain": [
       "array([ 0.2,  0.3,  0.4,  0.5,  0.6,  0.7,  0.8,  0.9])"
      ]
     },
     "execution_count": 202,
     "metadata": {},
     "output_type": "execute_result"
    }
   ],
   "source": [
    "x = np.arange(0.2,1.0,0.1)\n",
    "x"
   ]
  },
  {
   "cell_type": "code",
   "execution_count": 205,
   "metadata": {
    "collapsed": false
   },
   "outputs": [
    {
     "data": {
      "text/plain": [
       "array([ 1.04493814,  1.05464797,  1.0643578 ,  1.07406763,  1.08377746,\n",
       "        1.09348729,  1.10319713,  1.11290696])"
      ]
     },
     "execution_count": 205,
     "metadata": {},
     "output_type": "execute_result"
    }
   ],
   "source": [
    "y = np.array((-weights[2]-weights[1]*x)/weights[0])[0]\n",
    "y"
   ]
  },
  {
   "cell_type": "code",
   "execution_count": null,
   "metadata": {
    "collapsed": true
   },
   "outputs": [],
   "source": []
  }
 ],
 "metadata": {
  "kernelspec": {
   "display_name": "Python 3",
   "language": "python",
   "name": "python3"
  },
  "language_info": {
   "codemirror_mode": {
    "name": "ipython",
    "version": 3
   },
   "file_extension": ".py",
   "mimetype": "text/x-python",
   "name": "python",
   "nbconvert_exporter": "python",
   "pygments_lexer": "ipython3",
   "version": "3.5.1"
  }
 },
 "nbformat": 4,
 "nbformat_minor": 0
}
