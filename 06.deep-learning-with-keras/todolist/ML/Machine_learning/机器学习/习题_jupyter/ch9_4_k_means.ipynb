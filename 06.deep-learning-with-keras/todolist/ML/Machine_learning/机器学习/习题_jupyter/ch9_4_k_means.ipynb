{
 "cells": [
  {
   "cell_type": "markdown",
   "metadata": {},
   "source": [
    "# ch9.4 k_means\n",
    "试编程实现 K 均值算法设置三组不同的K值、三组不同初始中心点，在西瓜数据集4.0上进行实验比较，并讨论什么样的初始中心有利于取得好结果。"
   ]
  },
  {
   "cell_type": "code",
   "execution_count": 1,
   "metadata": {
    "collapsed": true
   },
   "outputs": [],
   "source": [
    "import numpy as np\n",
    "import pandas as pd\n",
    "import matplotlib.pyplot as plt"
   ]
  },
  {
   "cell_type": "code",
   "execution_count": 2,
   "metadata": {
    "collapsed": false
   },
   "outputs": [],
   "source": [
    "dataset = pd.read_csv('data/table_9_1_watermelon_4_0.csv')\n",
    "dataset = dataset.drop(['Idx'], axis=1)"
   ]
  },
  {
   "cell_type": "code",
   "execution_count": 3,
   "metadata": {
    "collapsed": true
   },
   "outputs": [],
   "source": [
    "def get_nearest_dist_num(x_j, u):\n",
    "    dist = np.zeros(len(u))\n",
    "    for i in range(len(u)):\n",
    "        dist[i] = np.sum((x_j-u[i])**2)\n",
    "    return np.argmin(dist)"
   ]
  },
  {
   "cell_type": "code",
   "execution_count": 5,
   "metadata": {
    "collapsed": false
   },
   "outputs": [],
   "source": [
    "def k_means(dataset, k=3):\n",
    "    random_int = np.random.randint(0,len(dataset),size=k)\n",
    "    while len(np.unique(random_int)) < k:\n",
    "        random_int = np.random.randint(0,len(dataset),size=k)\n",
    "    count = 0\n",
    "    u = np.zeros([k, 2])\n",
    "    print('k-means: k=',end=\"\")\n",
    "    print(k)\n",
    "    for i in range(k):\n",
    "        u[i] = list(dataset.ix[random_int[i],:-1])\n",
    "    print(u)\n",
    "\n",
    "    for t in [221,222,223,224]:\n",
    "        C = dict()\n",
    "        for i in range(k):\n",
    "            C[i] = []\n",
    "        for j in range(len(dataset)):\n",
    "            lambda_j = get_nearest_dist_num(np.array(dataset.ix[j,:-1]), u)\n",
    "            C[lambda_j].append(list(dataset.ix[j,:-1]))\n",
    "        for i in range(k):\n",
    "            u[i] = np.mean(C[i], axis=0)\n",
    "\n",
    "        dataset0 = dataset[dataset['label']==0]\n",
    "        dataset1 = dataset[dataset['label']==1]\n",
    "        color = ['g', 'b', 'r']\n",
    "        fig = plt.subplot(t)\n",
    "        for i in range(k):\n",
    "            fig.plot(np.array(C[i])[:,0], np.array(C[i])[:,1], color[i]+'.')\n",
    "            fig.plot(u[i,0],u[i,1], color[i]+'+')\n",
    "\n",
    "        plt.show()"
   ]
  },
  {
   "cell_type": "code",
   "execution_count": 8,
   "metadata": {
    "collapsed": false
   },
   "outputs": [
    {
     "name": "stdout",
     "output_type": "stream",
     "text": [
      "k-means: k=2\n",
      "[[ 0.725  0.445]\n",
      " [ 0.774  0.376]]\n"
     ]
    },
    {
     "data": {
      "image/png": "[encoded data removed]",
      "text/plain": [
       "<matplotlib.figure.Figure at 0x75edb00>"
      ]
     },
     "metadata": {},
     "output_type": "display_data"
    },
    {
     "data": {
      "image/png": "[encoded data removed]",
      "text/plain": [
       "<matplotlib.figure.Figure at 0x75d7da0>"
      ]
     },
     "metadata": {},
     "output_type": "display_data"
    },
    {
     "data": {
      "image/png": "[encoded data removed]",
      "text/plain": [
       "<matplotlib.figure.Figure at 0x7649710>"
      ]
     },
     "metadata": {},
     "output_type": "display_data"
    },
    {
     "data": {
      "image/png": "[encoded data removed]",
      "text/plain": [
       "<matplotlib.figure.Figure at 0x766f470>"
      ]
     },
     "metadata": {},
     "output_type": "display_data"
    }
   ],
   "source": [
    "k_means(dataset, k=2)"
   ]
  },
  {
   "cell_type": "code",
   "execution_count": 9,
   "metadata": {
    "collapsed": false
   },
   "outputs": [
    {
     "name": "stdout",
     "output_type": "stream",
     "text": [
      "k-means: k=2\n",
      "[[ 0.478  0.437]\n",
      " [ 0.525  0.369]]\n"
     ]
    },
    {
     "data": {
      "image/png": "[encoded data removed]",
      "text/plain": [
       "<matplotlib.figure.Figure at 0xadf06a0>"
      ]
     },
     "metadata": {},
     "output_type": "display_data"
    },
    {
     "data": {
      "image/png": "[encoded data removed]",
      "text/plain": [
       "<matplotlib.figure.Figure at 0xadae278>"
      ]
     },
     "metadata": {},
     "output_type": "display_data"
    },
    {
     "data": {
      "image/png": "[encoded data removed]",
      "text/plain": [
       "<matplotlib.figure.Figure at 0xae5de80>"
      ]
     },
     "metadata": {},
     "output_type": "display_data"
    },
    {
     "data": {
      "image/png": "[encoded data removed]",
      "text/plain": [
       "<matplotlib.figure.Figure at 0x9ad34e0>"
      ]
     },
     "metadata": {},
     "output_type": "display_data"
    }
   ],
   "source": [
    "k_means(dataset, k=2)"
   ]
  },
  {
   "cell_type": "code",
   "execution_count": null,
   "metadata": {
    "collapsed": true
   },
   "outputs": [],
   "source": []
  }
 ],
 "metadata": {
  "kernelspec": {
   "display_name": "Python [conda root]",
   "language": "python",
   "name": "conda-root-py"
  },
  "language_info": {
   "codemirror_mode": {
    "name": "ipython",
    "version": 3
   },
   "file_extension": ".py",
   "mimetype": "text/x-python",
   "name": "python",
   "nbconvert_exporter": "python",
   "pygments_lexer": "ipython3",
   "version": "3.5.2"
  },
  "toc": {
   "nav_menu": {},
   "number_sections": true,
   "sideBar": true,
   "skip_h1_title": false,
   "toc_cell": false,
   "toc_position": {},
   "toc_section_display": "block",
   "toc_window_display": false
  }
 },
 "nbformat": 4,
 "nbformat_minor": 1
}
