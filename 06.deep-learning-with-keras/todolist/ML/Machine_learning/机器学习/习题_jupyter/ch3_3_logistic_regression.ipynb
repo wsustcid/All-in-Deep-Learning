{
 "cells": [
  {
   "cell_type": "markdown",
   "metadata": {},
   "source": [
    "# ch3.3编程实现对率回归\n",
    "编程实现对率回归，并给出西瓜数据集3.0alpha上的结果"
   ]
  },
  {
   "cell_type": "code",
   "execution_count": 1,
   "metadata": {
    "collapsed": false
   },
   "outputs": [],
   "source": [
    "import numpy as np\n",
    "from numpy import linalg\n",
    "import matplotlib.pyplot as plt\n",
    "from sklearn import model_selection\n",
    "from sklearn.linear_model import LogisticRegression\n",
    "\n",
    "# formula 3.27\n",
    "def loglikelihood(x,y,beta):\n",
    "    sum_ll = 0\n",
    "    for i in range(x.shape[1]):\n",
    "        x1 = np.reshape(x[:,i],[len(x),1])\n",
    "        beta_x = float(np.dot(beta.T,x1))\n",
    "        sum_ll += -y[i]*beta_x + np.log(1+np.exp(beta_x))\n",
    "    return sum_ll\n",
    "\n",
    "# formula 3.30, 3.31\n",
    "def derivation(x,y,beta):\n",
    "    num_features = x.shape[0]\n",
    "    dbeta = np.zeros([num_features])\n",
    "    d2beta = np.zeros([num_features, num_features])\n",
    "    for i in range(len(y)):\n",
    "        e_beta = float(np.exp(np.dot(beta.T, x[:,i])))\n",
    "        p1 = e_beta/(1+e_beta)\n",
    "        dbeta -= x[:,i]*(y[i]-p1)\n",
    "        x1 = np.reshape(x[:,i],[len(x[:,i]),1])\n",
    "        x2 = np.dot(x1,x1.T)\n",
    "        d2beta += x2*p1*(1-p1)\n",
    "    return np.reshape(dbeta,[len(dbeta),1]),d2beta\n"
   ]
  },
  {
   "cell_type": "code",
   "execution_count": 17,
   "metadata": {
    "collapsed": false
   },
   "outputs": [],
   "source": [
    "def get_x_y(x,y):\n",
    "    plt_x0 = []\n",
    "    plt_y0 = []\n",
    "    plt_x1 = []\n",
    "    plt_y1 = []\n",
    "    for i in range(len(y)):\n",
    "        if y[i] == 0:\n",
    "            plt_x0.append(x[i,0])\n",
    "            plt_y0.append(x[i,1])\n",
    "        if y[i] == 1:\n",
    "            plt_x1.append(x[i,0])\n",
    "            plt_y1.append(x[i,1])\n",
    "    return plt_x0, plt_y0, plt_x1, plt_y1\n",
    "\n",
    "def plot_boundary(x,y,x_train, y_train, x_test, y_test, beta):\n",
    "    xx, yy = np.meshgrid(np.arange(min(x[:,0])-0.1, max(x[:,0])+0.1, 0.01),\n",
    "                         np.arange(min(x[:,1])-0.1, max(x[:,1])+0.1, 0.01))\n",
    "    zz = beta[0]*xx + beta[1]*yy + beta[2]\n",
    "    f1 = plt.figure(1)   \n",
    "    plt.title('watermelon_3a')  \n",
    "    plt.xlabel('density')  \n",
    "    plt.ylabel('ratio_sugar')  \n",
    "    plt.contourf(xx,yy,zz)  \n",
    "    plt_x0, plt_y0, plt_x1, plt_y1 = get_x_y(x_train, y_train)\n",
    "    plt_xt0, plt_yt0, plt_xt1, plt_yt1 = get_x_y(x_test, y_test)\n",
    "    plt.scatter(plt_x0, plt_y0, marker = 'o', color = 'red', s=30, label = 'train_bad')\n",
    "    plt.scatter(plt_x1, plt_y1, marker = 'o', color = 'g', s=30, label = 'train_good')\n",
    "    plt.scatter(plt_xt0, plt_yt0, marker = 'x', color = 'red', s=30, label = 'test_bad')\n",
    "    plt.scatter(plt_xt1, plt_yt1, marker = 'x', color = 'g', s=30, label = 'test_good')\n",
    "    plt.legend(loc = 'upper right')\n",
    "    plt.show()"
   ]
  },
  {
   "cell_type": "markdown",
   "metadata": {},
   "source": [
    "## 读取，划分数据集"
   ]
  },
  {
   "cell_type": "code",
   "execution_count": 2,
   "metadata": {
    "collapsed": true
   },
   "outputs": [],
   "source": [
    "dataset = np.loadtxt('data/watermelon_3_0_alpha.txt',delimiter=',')\n",
    "x = dataset[:,1:3]\n",
    "num_features = x.shape[1]\n",
    "x = np.insert(x,2,values=1,axis=1)\n",
    "x = x\n",
    "y = dataset[:, 3]\n",
    "x_train, x_test, y_train, y_test = model_selection.train_test_split(x, y, test_size=0.5, random_state=0)"
   ]
  },
  {
   "cell_type": "markdown",
   "metadata": {},
   "source": [
    "### 自己编写的牛顿迭代法的结果"
   ]
  },
  {
   "cell_type": "code",
   "execution_count": 3,
   "metadata": {
    "collapsed": false
   },
   "outputs": [
    {
     "name": "stdout",
     "output_type": "stream",
     "text": [
      "19 [[ -85.35092276]\n",
      " [ 390.44165894]\n",
      " [ -27.50567487]]\n"
     ]
    }
   ],
   "source": [
    "beta = np.zeros([num_features+1,1])\n",
    "beta[2] = 1\n",
    "\n",
    "n_iter = 100\n",
    "ll_old = 0\n",
    "for i in range(n_iter):\n",
    "    ll = loglikelihood(x_train.T,y_train.T,beta)    \n",
    "    if np.abs(ll-ll_old) <= 0.0000001:\n",
    "        break\n",
    "    ll_old = ll\n",
    "    dbeta, d2beta = derivation(x_train.T,y_train.T,beta)\n",
    "    # formula 3.29\n",
    "    beta = beta - np.dot(linalg.inv(d2beta), dbeta)\n",
    "print(i, beta)"
   ]
  },
  {
   "cell_type": "code",
   "execution_count": 19,
   "metadata": {
    "collapsed": false
   },
   "outputs": [
    {
     "data": {
      "image/png": "[encoded data removed]",
      "text/plain": [
       "<matplotlib.figure.Figure at 0xcfbf28ddd8>"
      ]
     },
     "metadata": {},
     "output_type": "display_data"
    }
   ],
   "source": [
    "plot_boundary(x,y,x_train, y_train, x_test, y_test, np.ravel(beta))"
   ]
  },
  {
   "cell_type": "markdown",
   "metadata": {},
   "source": [
    "### 调用sklearn库的结果"
   ]
  },
  {
   "cell_type": "code",
   "execution_count": 20,
   "metadata": {
    "collapsed": false
   },
   "outputs": [
    {
     "name": "stdout",
     "output_type": "stream",
     "text": [
      "[[-0.0825445   0.39557096 -0.01393502]]\n"
     ]
    },
    {
     "data": {
      "image/png": "[encoded data removed]",
      "text/plain": [
       "<matplotlib.figure.Figure at 0xcfbef0ef60>"
      ]
     },
     "metadata": {},
     "output_type": "display_data"
    }
   ],
   "source": [
    "log_model = LogisticRegression() \n",
    "log_model.fit(x_train, y_train) \n",
    "print(log_model.coef_)\n",
    "plot_boundary(x,y,x_train, y_train, x_test, y_test, np.ravel(log_model.coef_))"
   ]
  }
 ],
 "metadata": {
  "anaconda-cloud": {},
  "kernelspec": {
   "display_name": "Python [conda root]",
   "language": "python",
   "name": "conda-root-py"
  },
  "language_info": {
   "codemirror_mode": {
    "name": "ipython",
    "version": 3
   },
   "file_extension": ".py",
   "mimetype": "text/x-python",
   "name": "python",
   "nbconvert_exporter": "python",
   "pygments_lexer": "ipython3",
   "version": "3.5.2"
  }
 },
 "nbformat": 4,
 "nbformat_minor": 1
}
