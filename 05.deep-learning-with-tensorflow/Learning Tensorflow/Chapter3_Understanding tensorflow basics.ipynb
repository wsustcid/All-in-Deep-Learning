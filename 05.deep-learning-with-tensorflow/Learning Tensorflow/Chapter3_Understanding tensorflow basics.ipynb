{
 "cells": [
  {
   "cell_type": "markdown",
   "metadata": {},
   "source": [
    "TensorFlow as a numerical computation library using dataflow graphs.You will learn how to manage and create a graph, and be introduced to Tensor‐Flow’s “building blocks,” such as constants, placeholders, and Variables.\n",
    "\n",
    "Roughly speaking, working with TensorFlow involves two main phases: \n",
    "1. constructing a graph and\n",
    "2. executing it."
   ]
  },
  {
   "cell_type": "code",
   "execution_count": 1,
   "metadata": {},
   "outputs": [],
   "source": [
    "# Right after we import TensorFlow, a specific empty default graph is formed.\n",
    "import tensorflow as tf "
   ]
  },
  {
   "cell_type": "markdown",
   "metadata": {},
   "source": [
    "## 1. Creating a Graph, a Session and running it.\n",
    "\n",
    "tf.add()  \n",
    "tf.multiply()   \n",
    "tf.subtract()   \n",
    "tf.divide()  \n",
    "tf.pow()   \n",
    "tf.mod()  \n",
    "tf.logical_and()  \n",
    "tf.greater()  \n",
    "tf.greater_equal()   \n",
    "tf.less_equal()  \n",
    "tf.less()  \n",
    "tf.negative()  \n",
    "tf.logical_not()  \n",
    "tf.abs()  \n",
    "tf.logical_or()  "
   ]
  },
  {
   "cell_type": "code",
   "execution_count": 3,
   "metadata": {},
   "outputs": [],
   "source": [
    "# The contents of these variables should be regarded as the output of the operations\n",
    "a = tf.constant(5)\n",
    "b = tf.constant(2)\n",
    "c = tf.constant(3)\n",
    "\n",
    "d = tf.multiply(a,b)\n",
    "e = tf.add(c,b)\n",
    "f = tf.subtract(d,e)\n",
    "# print(f)"
   ]
  },
  {
   "cell_type": "code",
   "execution_count": 5,
   "metadata": {},
   "outputs": [
    {
     "name": "stdout",
     "output_type": "stream",
     "text": [
      "out=10\n"
     ]
    }
   ],
   "source": [
    "#we launch the graph in a tf.Session\n",
    "sess = tf.Session()\n",
    "outs = sess.run(f)\n",
    "sess.close()\n",
    "\n",
    "print(\"out={}\".format(outs))"
   ]
  },
  {
   "cell_type": "markdown",
   "metadata": {},
   "source": [
    "## 2. Constructing and Managing Our Graph"
   ]
  },
  {
   "cell_type": "code",
   "execution_count": 10,
   "metadata": {},
   "outputs": [
    {
     "name": "stdout",
     "output_type": "stream",
     "text": [
      "<tensorflow.python.framework.ops.Graph object at 0x7fb58170fcf8>\n",
      "<tensorflow.python.framework.ops.Graph object at 0x7fb5816121d0>\n",
      "False\n",
      "True\n"
     ]
    }
   ],
   "source": [
    "\"\"\"\n",
    "As mentioned, as soon as we import TensorFlow, a default graph is automatically created \n",
    "for us. \n",
    "We can create additional graphs and control their association with some given \n",
    "operations. \n",
    "\"\"\"\n",
    "# tf.Graph() creates a new graph, represented as a TensorFlow object.\n",
    "\n",
    "print(tf.get_default_graph())\n",
    "\n",
    "g = tf.Graph()\n",
    "print(g)\n",
    "\n",
    "# Since g hasn’t been assigned as the\n",
    "# default graph, any operation we create will not be associated with it\n",
    "a = tf.constant(5)\n",
    "print(a.graph is g)\n",
    "print(a.graph is tf.get_default_graph())"
   ]
  },
  {
   "cell_type": "code",
   "execution_count": 13,
   "metadata": {},
   "outputs": [
    {
     "name": "stdout",
     "output_type": "stream",
     "text": [
      "True\n",
      "False\n",
      "True\n"
     ]
    }
   ],
   "source": [
    "# The with statement is used to wrap the execution of a block with\n",
    "# methods defined by a context manager\n",
    "# see more: https://blog.csdn.net/u012609509/article/details/72911564\n",
    "\n",
    "g1 = tf.get_default_graph()\n",
    "g2 = tf.Graph()\n",
    "\n",
    "print(g1 is tf.get_default_graph())\n",
    "\n",
    "with g2.as_default():\n",
    "    print(g1 is tf.get_default_graph())\n",
    "    \n",
    "print(g1 is tf.get_default_graph())\n",
    "\n",
    "# The \"with\" statement can also be used to start a session without having to explicitly close it."
   ]
  },
  {
   "cell_type": "markdown",
   "metadata": {},
   "source": [
    "## 3. Fetches"
   ]
  },
  {
   "cell_type": "code",
   "execution_count": 17,
   "metadata": {},
   "outputs": [
    {
     "name": "stdout",
     "output_type": "stream",
     "text": [
      "outs = [5, 2, 3, 10, 5, 5]\n",
      "<class 'numpy.int32'>\n"
     ]
    }
   ],
   "source": [
    "'''\n",
    "the variable it was assigned to as an argument to the sess.run() method. This argument\n",
    "is called fetches , corresponding to the elements of the graph we wish to compute.\n",
    "'''\n",
    "\n",
    "with tf.Session() as sess:\n",
    "    fetches = [a,b,c,d,e,f]\n",
    "    outs = sess.run(fetches)\n",
    "    \n",
    "print(\"outs = {}\".format(outs))\n",
    "print(type(outs[0]))"
   ]
  },
  {
   "cell_type": "markdown",
   "metadata": {},
   "source": [
    "## 4. Data Types"
   ]
  },
  {
   "cell_type": "code",
   "execution_count": 18,
   "metadata": {},
   "outputs": [
    {
     "name": "stdout",
     "output_type": "stream",
     "text": [
      "Tensor(\"Const_8:0\", shape=(), dtype=float64)\n",
      "<dtype: 'float64'>\n"
     ]
    }
   ],
   "source": [
    "c = tf.constant(4.0, dtype=tf.float64)\n",
    "print(c)\n",
    "print(c.dtype)"
   ]
  },
  {
   "cell_type": "markdown",
   "metadata": {},
   "source": [
    "## 5. Casting\n",
    "performing an operation with two nonmatching data types will result in an exception."
   ]
  },
  {
   "cell_type": "code",
   "execution_count": 20,
   "metadata": {},
   "outputs": [
    {
     "name": "stdout",
     "output_type": "stream",
     "text": [
      "<dtype: 'float32'>\n",
      "<dtype: 'int64'>\n"
     ]
    }
   ],
   "source": [
    "x = tf.constant([1,2,3], name=\"x\", dtype=tf.float32)\n",
    "print(x.dtype)\n",
    "\n",
    "x = tf.cast(x, tf.int64)\n",
    "print(x.dtype)\n",
    "print(x)\n",
    "'''\n",
    "with tf.Session() as sess:\n",
    "    sess.run(x)\n",
    "\n",
    "print(x)\n",
    "\n",
    "'''"
   ]
  },
  {
   "cell_type": "markdown",
   "metadata": {},
   "source": [
    "## 6. Tensor Arrays and Shapes\n",
    "For example, a 1×1 tensor is a scalar, a 1×n tensor is a vector, an n×n tensor is a matrix, and an n×n×n tensor is just a three-dimensional array. This, of course, generalizes to any dimension. TensorFlow regards all the data units that flow in the graph as tensors, whether they are multidimensional arrays, vectors, matrices, or scalars.\n",
    "\n",
    "To initialize high-dimensional arrays, we can use Python lists or NumPy arrays as inputs. In the following example, we use as inputs a 2×3 matrix using a Python list and then a 3D NumPy array of size 2×2×3 (two matrices of size 2×3)\n",
    "\n",
    "tf.constant(value)      \n",
    "tf.fill(shape, value)   \n",
    "tf.zeros(shape)  \n",
    "tf.zeros_like(tensor)  \n",
    "tf.ones(shape)   \n",
    "tf.ones_like(tensor)   \n",
    "tf.random_normal(shape,mean, stddev)   \n",
    "tf.truncated_normal(shape, mean,stddev)    \n",
    "tf.random_uniform(shape, minval,maxval)    \n",
    "tf.random_shuffle(tensor)   "
   ]
  },
  {
   "cell_type": "code",
   "execution_count": 27,
   "metadata": {},
   "outputs": [
    {
     "name": "stdout",
     "output_type": "stream",
     "text": [
      "Python list input: (2, 3)\n",
      "3d numpy array input:(2, 2, 3)\n"
     ]
    }
   ],
   "source": [
    "import numpy as np\n",
    "\n",
    "c = tf.constant([[1,2,3],\n",
    "                 [4,5,6]])\n",
    "print(\"Python list input: {}\".format(c.get_shape()))\n",
    "\n",
    "c = tf.constant(np.array([\n",
    "                  [[1,2,3],\n",
    "                   [4,5,6]], \n",
    "        \n",
    "                  [[6,5,4],\n",
    "                   [3,2,1]]\n",
    "                 ]))\n",
    "print(\"3d numpy array input:{}\".format(c.get_shape()))"
   ]
  },
  {
   "cell_type": "markdown",
   "metadata": {},
   "source": [
    "We can generate random numbers from a normal distribution\n",
    "using tf.random.normal() , passing the shape, mean, and standard deviation as the\n",
    "first, second, and third arguments, respectively. Another two examples for useful ran‐\n",
    "dom initializers are the truncated normal that, as its name implies, cuts off all values\n",
    "below and above two standard deviations from the mean, and the uniform initializer\n",
    "that samples values uniformly within some interval [a,b)\n",
    "\n",
    "One example is the sequence generator tf.linspace(a, b,\n",
    "n) that creates n evenly spaced values from a to b ."
   ]
  },
  {
   "cell_type": "code",
   "execution_count": 43,
   "metadata": {},
   "outputs": [
    {
     "name": "stdout",
     "output_type": "stream",
     "text": [
      "The content of 'c':\n",
      " [0. 1. 2. 3. 4.] \n",
      "\n"
     ]
    }
   ],
   "source": [
    "'''\n",
    "tf.InteractiveSession() allows you to replace the usual tf.Ses\n",
    "sion() , so that you don’t need a variable holding the session for\n",
    "running ops.\n",
    "'''\n",
    "sess = tf.InteractiveSession()\n",
    "c = tf.linspace(0.0, 4.0, 5)\n",
    "print(\"The content of 'c':\\n {} \\n\".format(c.eval()))\n",
    "sess.close()\n",
    "# print(c)"
   ]
  },
  {
   "cell_type": "code",
   "execution_count": 52,
   "metadata": {},
   "outputs": [
    {
     "name": "stdout",
     "output_type": "stream",
     "text": [
      "(2, 3)\n",
      "(3,)\n",
      "(3, 1)\n",
      "matmul result: [[ 4]\n",
      " [10]]\n"
     ]
    }
   ],
   "source": [
    "A = tf.constant([[1,2,3],\n",
    "                 [4,5,6]])\n",
    "print(A.get_shape())\n",
    "\n",
    "x = tf.constant([1,0,1])\n",
    "print(x.get_shape())\n",
    "\n",
    "'''\n",
    "In order to multiply them, we need to add a dimension to x , transforming it from a\n",
    "1D vector to a 2D single-column matrix.\n",
    "'''\n",
    "x = tf.expand_dims(x,1)\n",
    "print(x.get_shape())\n",
    "\n",
    "b = tf.matmul(A,x)\n",
    "\n",
    "sess = tf.InteractiveSession()\n",
    "print('matmul result: {}'.format(b.eval()))\n",
    "sess.close()"
   ]
  },
  {
   "cell_type": "code",
   "execution_count": 61,
   "metadata": {},
   "outputs": [
    {
     "name": "stdout",
     "output_type": "stream",
     "text": [
      "c:0\n",
      "c_1:0\n",
      "prefix_name/c:0\n",
      "prefix_name/c_1:0\n"
     ]
    }
   ],
   "source": [
    "'''\n",
    "Prefixes are especially useful when we would like to divide a graph into subgraphs\n",
    "with some semantic meaning.\n",
    "'''\n",
    "with tf.Graph().as_default(): # without this line, the name of c1 and c2 will change after each run\n",
    "    c1 = tf.constant(4, dtype=tf.float64,name='c')\n",
    "    c2 = tf.constant(4, dtype=tf.int32,name='c')\n",
    "    print(c1.name)\n",
    "    print(c2.name)\n",
    "\n",
    "    with tf.name_scope(\"prefix_name\"):\n",
    "        c3 = tf.constant(4,dtype=tf.int32,name='c')\n",
    "        c4 = tf.constant(4,dtype=tf.float32,name='c')\n",
    "\n",
    "    print(c3.name)\n",
    "    print(c4.name)"
   ]
  },
  {
   "cell_type": "markdown",
   "metadata": {},
   "source": [
    "## 7. Variables and Placeholders\n",
    "The optimization process serves to **tune the parameters** of some given model. For\n",
    "that purpose, TensorFlow uses special objects called Variables.\n",
    "\n",
    "Using Variables is done in two stages. \n",
    "- First we call the tf.Variable() function in order to create a Variable and define what value it will be initialized with. \n",
    "- We then have to explicitly perform an initialization operation by running the session with the tf.global_variables_initializer() method, which allocates the memory for the Variable and sets its initial values.\n",
    "\n",
    "TensorFlow, has designated built-in structures for feeding input values. These structures are called placeholders.\n",
    "- Placeholders can be thought of as empty Variables that will be filled with data later on. \n",
    "- We use them by first constructing our graph and only when it is executed feeding them with the input data.\n",
    "- Placeholders have an optional shape argument. If a shape is not fed or is passed as None , then the placeholder can be fed with data of any size. \n",
    "- It is common to use None for the dimension of a matrix that corresponds to the number of samples (usually rows), while having the length of the features (usually columns) fixed.\n",
    "\n",
    "The input data is passed to the session.run() method as a dictionary, where each key corresponds to a placeholder variable name, and the matching values are the data values given in the form of a list or a NumPy array."
   ]
  },
  {
   "cell_type": "code",
   "execution_count": 67,
   "metadata": {},
   "outputs": [
    {
     "name": "stdout",
     "output_type": "stream",
     "text": [
      "pre run: <tf.Variable 'var_5:0' shape=(1, 5) dtype=float32_ref>\n",
      "\n",
      "post run: [[-0.63724536 -1.4116893   0.09589829  1.0668263  -0.8352504 ]]\n"
     ]
    }
   ],
   "source": [
    "'''\n",
    "Note that if we run the code again, we see that a new variable is created each time, as\n",
    "indicated by the automatic concatenation of _1 to its name:\n",
    "\n",
    "This could be very inefficient when we want to reuse the model (complex models\n",
    "could have many variables!); for example, when we wish to feed it with several differ‐\n",
    "ent inputs. To reuse the same variable, we can use the tf.get_variables() function\n",
    "instead of tf.Variable() . More on this can be found in “Model Structuring” on page\n",
    "203 of the appendix.\n",
    "'''\n",
    "\n",
    "var = tf.Variable(tf.random_normal((1,5),0,1), name='var')\n",
    "print(\"pre run: {}\".format(var))\n",
    "\n",
    "with tf.Session() as sess:\n",
    "    sess.run(tf.global_variables_initializer())\n",
    "    post_var = sess.run(var)\n",
    "\n",
    "print(\"\\npost run: {}\".format(post_var))"
   ]
  },
  {
   "cell_type": "code",
   "execution_count": 72,
   "metadata": {},
   "outputs": [
    {
     "name": "stdout",
     "output_type": "stream",
     "text": [
      "xwb = Tensor(\"add:0\", shape=(5, 1), dtype=float32)\n",
      "out1 = [[-0.54963416]\n",
      " [-1.2724931 ]\n",
      " [ 3.5033836 ]\n",
      " [-0.56218565]\n",
      " [-0.5758455 ]]\n",
      "out1 = 3.5033836364746094\n"
     ]
    }
   ],
   "source": [
    "x_data = np.random.randn(5,10)\n",
    "w_data = np.random.randn(10,1)\n",
    "\n",
    "with tf.Graph().as_default():\n",
    "    x = tf.placeholder(tf.float32, shape=(5,10))\n",
    "    w = tf.placeholder(tf.float32, shape=(10,1))\n",
    "    b = tf.fill((5,1),-1.)\n",
    "    xw = tf.matmul(x,w)\n",
    "    xwb = xw + b\n",
    "    \n",
    "    s = tf.reduce_max(xwb)\n",
    "    with tf.Session() as sess:\n",
    "        out1 = sess.run(xwb, feed_dict={x: x_data, w: w_data})\n",
    "        out2= sess.run(s, feed_dict={x: x_data, w: w_data})\n",
    "    \n",
    "    print(\"xwb = {}\".format(xwb))\n",
    "    print(\"out1 = {}\".format(out1))\n",
    "    print(\"out2 = {}\".format(out2))\n",
    "    # 只运行out2,xwb 能否print?"
   ]
  },
  {
   "cell_type": "markdown",
   "metadata": {},
   "source": [
    "## 8. Optimization\n",
    "cross-entropy:\n",
    "https://github.com/rdipietro/jupyter-notebooks/blob/master/friendly-intro-to-cross-entropy-loss/A%20Friendly%20Introduction%20to%20Cross-Entropy%20Loss.ipynb\n",
    "\n",
    "### Example 1: Linear regression"
   ]
  },
  {
   "cell_type": "code",
   "execution_count": 75,
   "metadata": {},
   "outputs": [],
   "source": [
    "import numpy as np\n",
    "# creating data and simulate results\n",
    "x_data = np.random.randn(2000,3)\n",
    "w_real = [0.3,0.5,0.1]\n",
    "b_real = -0.2\n",
    "\n",
    "noise = np.random.randn(1,2000)*0.1\n",
    "\n",
    "y_data = np.matmul(w_real,x_data.T) + b_real + noise"
   ]
  },
  {
   "cell_type": "code",
   "execution_count": 81,
   "metadata": {},
   "outputs": [
    {
     "name": "stdout",
     "output_type": "stream",
     "text": [
      "0 [array([[0.35293525, 0.52606255, 0.10123242]], dtype=float32), -0.20008484]\n",
      "5 [array([[0.30273157, 0.49781856, 0.10071414]], dtype=float32), -0.2008706]\n",
      "10 [array([[0.3027325 , 0.4978188 , 0.10071432]], dtype=float32), -0.20087087]\n"
     ]
    }
   ],
   "source": [
    "num_steps = 10\n",
    "\n",
    "g = tf.Graph()\n",
    "wb = []\n",
    "\n",
    "with g.as_default():\n",
    "    x = tf.placeholder(tf.float32, shape=[None,3])\n",
    "    y_true = tf.placeholder(tf.float32, shape=None)\n",
    "    \n",
    "    with tf.name_scope('inference') as scope:\n",
    "        w = tf.Variable([[0,0,0]], dtype=tf.float32, name='weights')\n",
    "        b = tf.Variable(0, dtype=tf.float32, name='bias')\n",
    "        y_pred = tf.matmul(w, tf.transpose(x)) + b\n",
    "        \n",
    "    with tf.name_scope('loss') as scope:\n",
    "        loss = tf.reduce_mean(tf.square(y_true-y_pred))\n",
    "    \n",
    "    with tf.name_scope('train') as scope:\n",
    "        learning_rate = 0.5\n",
    "        optimizer = tf.train.GradientDescentOptimizer(learning_rate)\n",
    "        train = optimizer.minimize(loss)\n",
    "        \n",
    "    init = tf.global_variables_initializer()\n",
    "    with tf.Session() as sess:\n",
    "        sess.run(init)\n",
    "        for step in range(num_steps):\n",
    "            sess.run(train, feed_dict={x: x_data, y_true: y_data})\n",
    "            \n",
    "            if (step%5==0):\n",
    "                print(step, sess.run([w,b]))\n",
    "                wb.append(sess.run([w,b]))\n",
    "        \n",
    "        print(num_steps, sess.run([w,b]))"
   ]
  },
  {
   "cell_type": "markdown",
   "metadata": {},
   "source": [
    "### Example 2: logistic regression. \n",
    "Again we wish to retrieve the weights and bias compo‐\n",
    "nents in a simulated data setting, this time in a logistic regression framework. Here\n",
    "the linear component w T x + b is the input of a nonlinear function called the logistic\n",
    "function. What it effectively does is squash the values of the linear part into the inter‐\n",
    "val [0, 1].\n",
    "We then regard these values as probabilities from which binary yes/1 or no/0 out‐\n",
    "comes are generated.This is the nondeterministic (noisy) part of the model."
   ]
  },
  {
   "cell_type": "code",
   "execution_count": null,
   "metadata": {},
   "outputs": [],
   "source": []
  }
 ],
 "metadata": {
  "kernelspec": {
   "display_name": "Python 3",
   "language": "python",
   "name": "python3"
  },
  "language_info": {
   "codemirror_mode": {
    "name": "ipython",
    "version": 3
   },
   "file_extension": ".py",
   "mimetype": "text/x-python",
   "name": "python",
   "nbconvert_exporter": "python",
   "pygments_lexer": "ipython3",
   "version": "3.5.2"
  }
 },
 "nbformat": 4,
 "nbformat_minor": 2
}
